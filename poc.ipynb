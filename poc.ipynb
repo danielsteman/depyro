{
 "cells": [
  {
   "cell_type": "code",
   "execution_count": 51,
   "metadata": {},
   "outputs": [
    {
     "data": {
      "text/plain": [
       "True"
      ]
     },
     "execution_count": 51,
     "metadata": {},
     "output_type": "execute_result"
    }
   ],
   "source": [
    "import requests\n",
    "import json\n",
    "from getpass import getpass\n",
    "import os\n",
    "from dotenv import load_dotenv\n",
    "\n",
    "load_dotenv()"
   ]
  },
  {
   "cell_type": "code",
   "execution_count": 52,
   "metadata": {},
   "outputs": [],
   "source": [
    "s = requests.Session()"
   ]
  },
  {
   "cell_type": "code",
   "execution_count": 53,
   "metadata": {},
   "outputs": [
    {
     "name": "stdout",
     "output_type": "stream",
     "text": [
      "200\n",
      "{'isPassCodeEnabled': True, 'locale': 'nl_NL', 'redirectUrl': 'https://trader.degiro.nl/trader/', 'sessionId': '149682010C06046A14DC86F46C529DEE.prod_b_128_5', 'status': 0, 'statusText': 'success'}\n"
     ]
    }
   ],
   "source": [
    "url = 'https://trader.degiro.nl/login/secure/login/totp'\n",
    "payload = {\n",
    "    'username': os.environ['username'], \n",
    "    'password': os.environ['password'],\n",
    "    'isPassCodeReset': False,\n",
    "    'isRedirectToMobile': False,\n",
    "    'oneTimePassword': getpass('Enter password...'),\n",
    "}\n",
    "r = s.post(url, data=json.dumps(payload))\n",
    "print(r.status_code)\n",
    "print(r.json())"
   ]
  },
  {
   "cell_type": "code",
   "execution_count": 67,
   "metadata": {},
   "outputs": [
    {
     "name": "stdout",
     "output_type": "stream",
     "text": [
      "200\n",
      "{'tradingUrl': 'https://trader.degiro.nl/trading/secure/', 'paUrl': 'https://trader.degiro.nl/pa/secure/', 'reportingUrl': 'https://trader.degiro.nl/reporting/secure/', 'paymentServiceUrl': 'https://trader.degiro.nl/payments/', 'productSearchUrl': 'https://trader.degiro.nl/product_search/secure/', 'dictionaryUrl': 'https://trader.degiro.nl/product_search/config/dictionary/', 'productTypesUrl': 'https://trader.degiro.nl/product_search/config/productTypes/', 'companiesServiceUrl': 'https://trader.degiro.nl/dgtbxdsservice/', 'i18nUrl': 'https://trader.degiro.nl/i18n/', 'vwdQuotecastServiceUrl': 'https://trader.degiro.nl/vwd-quotecast-service/', 'vwdNewsUrl': 'https://solutions.vwdservices.com/customers/degiro.nl/news-feed/api/', 'vwdGossipsUrl': 'https://solutions.vwdservices.com/customers/degiro.nl/news-feed/api/', 'taskManagerUrl': 'https://trader.degiro.nl/taskmanager/', 'refinitivNewsUrl': 'https://trader.degiro.nl/dgtbxdsservice/newsfeed/v2', 'refinitivAgendaUrl': 'https://trader.degiro.nl/dgtbxdsservice/agenda/v2', 'refinitivCompanyProfileUrl': 'https://trader.degiro.nl/dgtbxdsservice/company-profile/v2', 'refinitivCompanyRatiosUrl': 'https://trader.degiro.nl/dgtbxdsservice/company-ratios', 'refinitivFinancialStatementsUrl': 'https://trader.degiro.nl/dgtbxdsservice/financial-statements', 'refinitivClipsUrl': 'https://trader.degiro.nl/refinitiv-insider-proxy/secure/', 'refinitivInvestorUrl': 'https://trader.degiro.nl/dgtbxdsservice/investor', 'refinitivInsiderTransactionsUrl': 'https://trader.degiro.nl/dgtbxdsservice/insider-transactions', 'refinitivInsidersReportUrl': 'https://trader.degiro.nl/dgtbxdsservice/insiders-report', 'refinitivShareholdersUrl': 'https://trader.degiro.nl/dgtbxdsservice/shareholders', 'refinitivEstimatesUrl': 'https://trader.degiro.nl/dgtbxdsservice/estimates-summaries', 'refinitivEsgsUrl': 'https://trader.degiro.nl/dgtbxdsservice/esgs', 'refinitivTopNewsCategoriesUrl': 'https://trader.degiro.nl/dgtbxdsservice/newsfeed/v2/top-news-categories', 'productNotesUrl': 'https://trader.degiro.nl/product-notes-service/secure/', 'latestSearchedProductsUrl': 'https://trader.degiro.nl/latest-searched-products/secure/', 'translationsUrl': 'https://trader.degiro.nl/translations/', 'landingPath': '/trader/', 'betaLandingPath': '/beta-trader/', 'mobileLandingPath': '/trader/', 'loginUrl': 'https://trader.degiro.nl/login/nl', 'sessionId': '149682010C06046A14DC86F46C529DEE.prod_b_128_5', 'clientId': 297358}\n"
     ]
    }
   ],
   "source": [
    "r = s.get(\"https://trader.degiro.nl/login/secure/config\")\n",
    "print(r.status_code)\n",
    "config = json.loads(r.text)\n",
    "urls = config['data']\n",
    "session_id = urls['sessionId']\n",
    "client_id = urls['clientId']\n",
    "print(urls)\n"
   ]
  },
  {
   "cell_type": "code",
   "execution_count": 69,
   "metadata": {},
   "outputs": [
    {
     "name": "stdout",
     "output_type": "stream",
     "text": [
      "403\n"
     ]
    },
    {
     "data": {
      "text/plain": [
       "'{\"errors\":[{\"text\":\"Request is forbidden\"}]}'"
      ]
     },
     "execution_count": 69,
     "metadata": {},
     "output_type": "execute_result"
    }
   ],
   "source": [
    "reporting_url = f\"https://trader.degiro.nl/trading/secure/v5/update/{client_id};jsessionid={session_id}\"\n",
    "r = s.get(reporting_url)\n",
    "print(r.status_code)\n",
    "r.text"
   ]
  },
  {
   "cell_type": "code",
   "execution_count": 70,
   "metadata": {},
   "outputs": [],
   "source": []
  },
  {
   "cell_type": "code",
   "execution_count": 71,
   "metadata": {},
   "outputs": [],
   "source": []
  },
  {
   "cell_type": "code",
   "execution_count": 74,
   "metadata": {},
   "outputs": [
    {
     "ename": "Exception",
     "evalue": "Could not login. Response: {\"status\":6,\"statusText\":\"totpNeeded\"}",
     "output_type": "error",
     "traceback": [
      "\u001b[0;31m---------------------------------------------------------------------------\u001b[0m",
      "\u001b[0;31mException\u001b[0m                                 Traceback (most recent call last)",
      "\u001b[0;32m/var/folders/y1/43_091p92n7_jwxr3fgb67nh0000gn/T/ipykernel_33968/971197672.py\u001b[0m in \u001b[0;36m<module>\u001b[0;34m\u001b[0m\n\u001b[1;32m      9\u001b[0m \u001b[0;34m\u001b[0m\u001b[0m\n\u001b[1;32m     10\u001b[0m \u001b[0mdegiro\u001b[0m \u001b[0;34m=\u001b[0m \u001b[0mdegiroapi\u001b[0m\u001b[0;34m.\u001b[0m\u001b[0mDeGiro\u001b[0m\u001b[0;34m(\u001b[0m\u001b[0;34m)\u001b[0m\u001b[0;34m\u001b[0m\u001b[0;34m\u001b[0m\u001b[0m\n\u001b[0;32m---> 11\u001b[0;31m \u001b[0mdegiro\u001b[0m\u001b[0;34m.\u001b[0m\u001b[0mlogin\u001b[0m\u001b[0;34m(\u001b[0m\u001b[0musername\u001b[0m\u001b[0;34m=\u001b[0m\u001b[0mos\u001b[0m\u001b[0;34m.\u001b[0m\u001b[0menviron\u001b[0m\u001b[0;34m[\u001b[0m\u001b[0;34m'username'\u001b[0m\u001b[0;34m]\u001b[0m\u001b[0;34m,\u001b[0m \u001b[0mpassword\u001b[0m\u001b[0;34m=\u001b[0m\u001b[0mos\u001b[0m\u001b[0;34m.\u001b[0m\u001b[0menviron\u001b[0m\u001b[0;34m[\u001b[0m\u001b[0;34m'password'\u001b[0m\u001b[0;34m]\u001b[0m\u001b[0;34m)\u001b[0m\u001b[0;34m\u001b[0m\u001b[0;34m\u001b[0m\u001b[0m\n\u001b[0m",
      "\u001b[0;32m~/Desktop/dev/depyro/venv/lib/python3.9/site-packages/degiroapi/__init__.py\u001b[0m in \u001b[0;36mlogin\u001b[0;34m(self, username, password)\u001b[0m\n\u001b[1;32m     42\u001b[0m             \u001b[0;34m'isRedirectToMobile'\u001b[0m\u001b[0;34m:\u001b[0m \u001b[0;32mFalse\u001b[0m\u001b[0;34m\u001b[0m\u001b[0;34m\u001b[0m\u001b[0m\n\u001b[1;32m     43\u001b[0m         }\n\u001b[0;32m---> 44\u001b[0;31m         login_response = self.__request(DeGiro.__LOGIN_URL, None, login_payload, request_type=DeGiro.__POST_REQUEST,\n\u001b[0m\u001b[1;32m     45\u001b[0m                                         error_message='Could not login.')\n\u001b[1;32m     46\u001b[0m         \u001b[0mself\u001b[0m\u001b[0;34m.\u001b[0m\u001b[0msession_id\u001b[0m \u001b[0;34m=\u001b[0m \u001b[0mlogin_response\u001b[0m\u001b[0;34m[\u001b[0m\u001b[0;34m'sessionId'\u001b[0m\u001b[0;34m]\u001b[0m\u001b[0;34m\u001b[0m\u001b[0;34m\u001b[0m\u001b[0m\n",
      "\u001b[0;32m~/Desktop/dev/depyro/venv/lib/python3.9/site-packages/degiroapi/__init__.py\u001b[0m in \u001b[0;36m__request\u001b[0;34m(url, cookie, payload, headers, data, post_params, request_type, error_message)\u001b[0m\n\u001b[1;32m     93\u001b[0m                 \u001b[0;32mreturn\u001b[0m \u001b[0;34m\"No data\"\u001b[0m\u001b[0;34m\u001b[0m\u001b[0;34m\u001b[0m\u001b[0m\n\u001b[1;32m     94\u001b[0m         \u001b[0;32melse\u001b[0m\u001b[0;34m:\u001b[0m\u001b[0;34m\u001b[0m\u001b[0;34m\u001b[0m\u001b[0m\n\u001b[0;32m---> 95\u001b[0;31m             \u001b[0;32mraise\u001b[0m \u001b[0mException\u001b[0m\u001b[0;34m(\u001b[0m\u001b[0;34mf'{error_message} Response: {response.text}'\u001b[0m\u001b[0;34m)\u001b[0m\u001b[0;34m\u001b[0m\u001b[0;34m\u001b[0m\u001b[0m\n\u001b[0m\u001b[1;32m     96\u001b[0m \u001b[0;34m\u001b[0m\u001b[0m\n\u001b[1;32m     97\u001b[0m     \u001b[0;32mdef\u001b[0m \u001b[0msearch_products\u001b[0m\u001b[0;34m(\u001b[0m\u001b[0mself\u001b[0m\u001b[0;34m,\u001b[0m \u001b[0msearch_text\u001b[0m\u001b[0;34m,\u001b[0m \u001b[0mlimit\u001b[0m\u001b[0;34m=\u001b[0m\u001b[0;36m1\u001b[0m\u001b[0;34m)\u001b[0m\u001b[0;34m:\u001b[0m\u001b[0;34m\u001b[0m\u001b[0;34m\u001b[0m\u001b[0m\n",
      "\u001b[0;31mException\u001b[0m: Could not login. Response: {\"status\":6,\"statusText\":\"totpNeeded\"}"
     ]
    }
   ],
   "source": [
    "from dotenv import load_dotenv\n",
    "import degiroapi\n",
    "from degiroapi.product import Product\n",
    "from degiroapi.order import Order\n",
    "from degiroapi.utils import pretty_json\n",
    "import os\n",
    "\n",
    "load_dotenv()\n",
    "\n",
    "degiro = degiroapi.DeGiro()\n",
    "degiro.login(username=os.environ['username'], password=os.environ['password'])"
   ]
  },
  {
   "cell_type": "code",
   "execution_count": null,
   "metadata": {},
   "outputs": [],
   "source": []
  }
 ],
 "metadata": {
  "interpreter": {
   "hash": "ac2eaa0ea0ebeafcc7822e65e46aa9d4f966f30b695406963e145ea4a91cd4fc"
  },
  "kernelspec": {
   "display_name": "Python 3.9.4 64-bit",
   "language": "python",
   "name": "python3"
  },
  "language_info": {
   "codemirror_mode": {
    "name": "ipython",
    "version": 3
   },
   "file_extension": ".py",
   "mimetype": "text/x-python",
   "name": "python",
   "nbconvert_exporter": "python",
   "pygments_lexer": "ipython3",
   "version": "3.9.8"
  },
  "orig_nbformat": 4
 },
 "nbformat": 4,
 "nbformat_minor": 2
}
